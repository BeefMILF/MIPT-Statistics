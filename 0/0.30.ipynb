{
 "cells": [
  {
   "cell_type": "code",
   "execution_count": 1,
   "metadata": {
    "collapsed": true
   },
   "outputs": [],
   "source": [
    "import numpy as np\n",
    "import scipy.stats as sps\n",
    "import matplotlib.pyplot as plt\n",
    "%matplotlib inline"
   ]
  },
  {
   "cell_type": "markdown",
   "metadata": {},
   "source": [
    "** Задача 1. **\n",
    "\n",
    "Решение:"
   ]
  },
  {
   "cell_type": "code",
   "execution_count": 2,
   "metadata": {
    "collapsed": true
   },
   "outputs": [],
   "source": [
    "def matrix_multiplication(A, B):\n",
    "    '''Возвращает матрицу, которая является результатом матричного умножения матриц A и B.'''\n",
    "    return (A[:, np.newaxis] * np.full((len(A), len(B[0]), len(B)), B.T)).sum(axis=2)"
   ]
  },
  {
   "cell_type": "markdown",
   "metadata": {},
   "source": [
    "Проверка:"
   ]
  },
  {
   "cell_type": "code",
   "execution_count": 3,
   "metadata": {
    "collapsed": false
   },
   "outputs": [
    {
     "name": "stdout",
     "output_type": "stream",
     "text": [
      "CPU times: user 123 ms, sys: 127 ms, total: 250 ms\n",
      "Wall time: 248 ms\n",
      "CPU times: user 10 ms, sys: 0 ns, total: 10 ms\n",
      "Wall time: 3.85 ms\n",
      "1.8839614313e-09\n",
      "CPU times: user 10 ms, sys: 0 ns, total: 10 ms\n",
      "Wall time: 2.32 ms\n",
      "CPU times: user 22.4 s, sys: 387 ms, total: 22.8 s\n",
      "Wall time: 22.4 s\n"
     ]
    }
   ],
   "source": [
    "def stupid_matrix_multiplication(A, B):\n",
    "    C = [[0 for j in range(len(B[0]))] for i in range(len(A))]\n",
    "    for i in range(len(A)):\n",
    "        for j in range(len(B[0])):\n",
    "            for k in range(len(B)):\n",
    "                C[i][j] += A[i][k] * B[k][j]\n",
    "    return C\n",
    "\n",
    "A = sps.uniform.rvs(size=(400, 200))\n",
    "B = sps.uniform.rvs(size=(200, 300))\n",
    "\n",
    "%time C1 = matrix_multiplication(A, B)\n",
    "%time C2 = A @ B  # python 3.5\n",
    "print(np.abs(C1 - C2).sum())\n",
    "%time C3 = np.matrix(A) * np.matrix(B)\n",
    "%time C4 = stupid_matrix_multiplication(A, B)"
   ]
  },
  {
   "cell_type": "markdown",
   "metadata": {},
   "source": [
    "** Задача 2. **\n",
    "\n",
    "Решение:"
   ]
  },
  {
   "cell_type": "code",
   "execution_count": 4,
   "metadata": {
    "collapsed": true
   },
   "outputs": [],
   "source": [
    "def cumavg(X):\n",
    "    '''По последовательности чисел (x_1, ..., x_n) строит последовательность средних частичных сумм'''\n",
    "    return np.array(X).cumsum() / np.arange(1, len(X) + 1)"
   ]
  },
  {
   "cell_type": "markdown",
   "metadata": {},
   "source": [
    "Проверка:"
   ]
  },
  {
   "cell_type": "code",
   "execution_count": 5,
   "metadata": {
    "collapsed": false
   },
   "outputs": [
    {
     "name": "stdout",
     "output_type": "stream",
     "text": [
      "CPU times: user 123 ms, sys: 56.7 ms, total: 180 ms\n",
      "Wall time: 178 ms\n",
      "CPU times: user 9.25 s, sys: 143 ms, total: 9.39 s\n",
      "Wall time: 9.39 s\n",
      "0.0\n"
     ]
    }
   ],
   "source": [
    "def stupid_cumavg(X):\n",
    "    S = [0 for i in range(len(X))]\n",
    "    for i in range(len(X)):\n",
    "        S[i] = X[i] + S[i - 1]\n",
    "    for i in range(len(X)):\n",
    "        S[i] /= i + 1\n",
    "    return S\n",
    "\n",
    "X = sps.uniform.rvs(size=10 ** 7)\n",
    "\n",
    "%time S1 = cumavg(X)\n",
    "%time S2 = stupid_cumavg(X)\n",
    "print(np.abs(S1 - S2).sum())"
   ]
  },
  {
   "cell_type": "markdown",
   "metadata": {},
   "source": [
    "**График:**"
   ]
  },
  {
   "cell_type": "code",
   "execution_count": 6,
   "metadata": {
    "collapsed": false,
    "scrolled": true
   },
   "outputs": [
    {
     "data": {
      "image/png": "[encoded data removed]",
      "text/plain": [
       "<matplotlib.figure.Figure at 0x7f69abecf940>"
      ]
     },
     "metadata": {},
     "output_type": "display_data"
    }
   ],
   "source": [
    "S = cumavg(sps.uniform.rvs(size=100))\n",
    "\n",
    "plt.figure(figsize=(15, 5))\n",
    "plt.grid(linestyle='dotted')\n",
    "plt.plot(range(100), S, marker='o')\n",
    "plt.show()"
   ]
  },
  {
   "cell_type": "markdown",
   "metadata": {},
   "source": [
    "** Задача 3. **"
   ]
  },
  {
   "cell_type": "code",
   "execution_count": 7,
   "metadata": {
    "collapsed": false
   },
   "outputs": [],
   "source": [
    "def avgmin(A):\n",
    "    '''Для матрицы A вычисляет средний минимум по столбцам'''\n",
    "    return np.array(A).min(axis=0).mean()"
   ]
  },
  {
   "cell_type": "code",
   "execution_count": 8,
   "metadata": {
    "collapsed": false
   },
   "outputs": [
    {
     "name": "stdout",
     "output_type": "stream",
     "text": [
      "CPU times: user 183 ms, sys: 160 ms, total: 343 ms\n",
      "Wall time: 2.07 s\n",
      "CPU times: user 19.9 s, sys: 26.7 ms, total: 20 s\n",
      "Wall time: 20 s\n",
      "4.06575814682e-19\n"
     ]
    }
   ],
   "source": [
    "def stupid_avgmin(A):\n",
    "    N, M = len(A), len(A[0])\n",
    "    min_col = [min([A[i][j] for i in range(N)]) for j in range(M)]\n",
    "    return sum(min_col) / M\n",
    "\n",
    "N, M = 5000, 10000\n",
    "A = sps.uniform.rvs(size=(N, M))\n",
    "\n",
    "%time S1 = avgmin(A)\n",
    "%time S2 = stupid_avgmin(A)\n",
    "print(np.abs(S1 - S2))"
   ]
  },
  {
   "cell_type": "markdown",
   "metadata": {},
   "source": [
    "** Задача 4. **"
   ]
  },
  {
   "cell_type": "code",
   "execution_count": 9,
   "metadata": {
    "collapsed": false
   },
   "outputs": [],
   "source": [
    "def func4(X, v=0):\n",
    "    '''Заменяет все чётные числа из массива X на число v, а все нечётные возводит в квадрат и записывает в обратном порядке'''\n",
    "    # Если X имеет другой тип, нужно выполнить преобразование типов\n",
    "    X = np.array(X)\n",
    "    # Получаем массив индексов нечётных элементов\n",
    "    odd_indexes = (X % 2).nonzero()[0]\n",
    "    # Получаем массив индексов чётных элементов\n",
    "    even_indexes = (1 - X % 2).nonzero()[0]\n",
    "    # Заменяем все чётные числа на число v\n",
    "    X[even_indexes] = v\n",
    "    # Получаем развёрнутый массив индексов нечётных элементов\n",
    "    odd_indexes_reverse = odd_indexes[::-1]\n",
    "    # Возводит все нечётные числа в квадрат и разворачивает их\n",
    "    X[odd_indexes] = X[odd_indexes_reverse] ** 2\n",
    "    return X"
   ]
  },
  {
   "cell_type": "code",
   "execution_count": 10,
   "metadata": {
    "collapsed": false
   },
   "outputs": [
    {
     "name": "stdout",
     "output_type": "stream",
     "text": [
      "CPU times: user 610 ms, sys: 117 ms, total: 727 ms\n",
      "Wall time: 728 ms\n",
      "CPU times: user 9.27 s, sys: 76.7 ms, total: 9.35 s\n",
      "Wall time: 9.35 s\n",
      "0\n"
     ]
    }
   ],
   "source": [
    "def stupid_func4(X, v=0):\n",
    "    odd = [elem ** 2 for elem in X if elem % 2]\n",
    "    \n",
    "    new_X = []\n",
    "    j = len(odd) - 1\n",
    "    for i in range(len(X)):\n",
    "        if X[i] % 2:\n",
    "            new_X.append(odd[j])\n",
    "            j -= 1\n",
    "        else:\n",
    "            new_X.append(v)\n",
    "    \n",
    "    return new_X\n",
    "\n",
    "X = sps.randint.rvs(size=10 ** 7, low=0, high=100)\n",
    "\n",
    "%time A1 = func4(X)\n",
    "%time A2 = stupid_func4(X)\n",
    "print(np.abs(A1 - A2).sum())"
   ]
  }
 ],
 "metadata": {
  "kernelspec": {
   "display_name": "Python 3",
   "language": "python",
   "name": "python3"
  },
  "language_info": {
   "codemirror_mode": {
    "name": "ipython",
    "version": 3
   },
   "file_extension": ".py",
   "mimetype": "text/x-python",
   "name": "python",
   "nbconvert_exporter": "python",
   "pygments_lexer": "ipython3",
   "version": "3.6.0"
  }
 },
 "nbformat": 4,
 "nbformat_minor": 2
}
